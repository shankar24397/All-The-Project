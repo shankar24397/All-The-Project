{
 "cells": [
  {
   "cell_type": "markdown",
   "metadata": {},
   "source": [
    "# Functions in python\n",
    "\n",
    "## functions VS Methods: \n",
    "## A method refers to a function which is part of a class, where as the function \n",
    "## dosent have such restriction-  it just points to standalone function"
   ]
  },
  {
   "cell_type": "code",
   "execution_count": 1,
   "metadata": {},
   "outputs": [
    {
     "data": {
      "text/plain": [
       "10"
      ]
     },
     "execution_count": 1,
     "metadata": {},
     "output_type": "execute_result"
    }
   ],
   "source": [
    "def plus(*args):\n",
    "  return sum(args)\n",
    "\n",
    "# Calculate the sum\n",
    "plus(1,4,5)"
   ]
  },
  {
   "cell_type": "markdown",
   "metadata": {},
   "source": [
    "## Anonymous Function\n",
    "\n"
   ]
  },
  {
   "cell_type": "code",
   "execution_count": 5,
   "metadata": {},
   "outputs": [
    {
     "name": "stdout",
     "output_type": "stream",
     "text": [
      "[6, 7, 8, 9, 10]\n",
      "[2, 4, 6, 8, 10, 12, 14, 16, 18, 20]\n",
      "55\n"
     ]
    }
   ],
   "source": [
    "# `sum()` lambda function\n",
    "sum = lambda x, y: x + y;\n",
    "\n",
    "# Call the `sum()` anonymous function\n",
    "sum(4,5)\n",
    "\n",
    "# \"Translate\" to a UDF\n",
    "def sum(x, y):\n",
    "    return x+y\n",
    "\n",
    "\n",
    "#==================mostly used when we user -filter/reduce/map\n",
    "\n",
    "from functools import reduce\n",
    "\n",
    "my_list = [1,2,3,4,5,6,7,8,9,10]\n",
    "\n",
    "# Use lambda function with `filter()`\n",
    "filtered_list = list(filter(lambda x: (x*2 > 10), my_list))\n",
    "\n",
    "# Use lambda function with `map()`\n",
    "mapped_list = list(map(lambda x: x*2, my_list))\n",
    "\n",
    "# Use lambda function with `reduce()`\n",
    "reduced_list = reduce(lambda x, y: x+y, my_list)\n",
    "\n",
    "print(filtered_list)\n",
    "print(mapped_list)\n",
    "print(reduced_list)"
   ]
  },
  {
   "cell_type": "code",
   "execution_count": 7,
   "metadata": {},
   "outputs": [
    {
     "name": "stdout",
     "output_type": "stream",
     "text": [
      "hello\n",
      "This is a main function\n"
     ]
    }
   ],
   "source": [
    "# Define `main()` function\n",
    "def hello():\n",
    "    print('hello')\n",
    "    \n",
    "def main():\n",
    "  hello()\n",
    "  print(\"This is a main function\")\n",
    "\n",
    "\n",
    "# Execute `main()` function \n",
    "if __name__ == '__main__':\n",
    "    main()"
   ]
  },
  {
   "cell_type": "code",
   "execution_count": 10,
   "metadata": {},
   "outputs": [
    {
     "name": "stdout",
     "output_type": "stream",
     "text": [
      "model of the car is honda city 2019\n"
     ]
    }
   ],
   "source": [
    "# using Arbitrary Keyword Arguments, **kwargs\n",
    "\n",
    "def my_func(**car):\n",
    "    print(\"model of the car is \"+car['model'])\n",
    "my_func(model='honda city 2019',name='zonda',version='automatic')"
   ]
  },
  {
   "cell_type": "code",
   "execution_count": 11,
   "metadata": {},
   "outputs": [
    {
     "name": "stdout",
     "output_type": "stream",
     "text": [
      "The factorial of 3 is 6\n"
     ]
    }
   ],
   "source": [
    "#recursive Function\n",
    "def factorial(x):\n",
    "    \"\"\"This is a recursive function\n",
    "    to find the factorial of an integer\"\"\"\n",
    "\n",
    "    if x == 1:\n",
    "        return 1\n",
    "    else:\n",
    "        return (x * factorial(x-1))\n",
    "\n",
    "\n",
    "num = 3\n",
    "print(\"The factorial of\", num, \"is\", factorial(num))"
   ]
  },
  {
   "cell_type": "code",
   "execution_count": null,
   "metadata": {},
   "outputs": [],
   "source": [
    "#File Handling\n",
    "\n",
    "# open() function\n",
    "'''\n",
    "\"r\" - Read - Default value. Opens a file for reading, error if the file does not exist\n",
    "\n",
    "\"a\" - Append - Opens a file for appending, creates the file if it does not exist\n",
    "\n",
    "\"w\" - Write - Opens a file for writing, creates the file if it does not exist\n",
    "\n",
    "\"x\" - Create - Creates the specified file, returns an error if the file exists\n",
    "\n",
    "\n",
    "and opening file is handled as \n",
    "\n",
    "\"t\" - Text - Default value. Text mode\n",
    "\n",
    "\"b\" - Binary - Binary mode (e.g. images)\n",
    "\n",
    "'''\n",
    "# f = open(\"demofile.txt\", \"r\") \n",
    "# f.read()\n",
    "\n",
    "# os.remove(\"demofile.txt\")  # Deleting a file"
   ]
  },
  {
   "cell_type": "code",
   "execution_count": 12,
   "metadata": {},
   "outputs": [
    {
     "name": "stdout",
     "output_type": "stream",
     "text": [
      "The file does not exist\n"
     ]
    }
   ],
   "source": [
    "import os\n",
    "if os.path.exists(\"demofile.txt\"):\n",
    "    os.remove(\"demofile.txt\")\n",
    "else:\n",
    "    print(\"The file does not exist\")\n",
    "\n"
   ]
  },
  {
   "cell_type": "code",
   "execution_count": null,
   "metadata": {},
   "outputs": [],
   "source": [
    "#unzip all the file in folders \n",
    "\n",
    "import zipfile\n",
    "with zipfile.ZipFile(path_to_zip_file,'r') as zip_ref:\n",
    "    zip_ref.extract_all(extract_to_some_location)\n",
    "    "
   ]
  },
  {
   "cell_type": "code",
   "execution_count": 13,
   "metadata": {},
   "outputs": [
    {
     "name": "stdout",
     "output_type": "stream",
     "text": [
      "apple\n",
      "banana\n",
      "cherry\n"
     ]
    }
   ],
   "source": [
    "#iterators in python\n",
    "\n",
    "mytuple = (\"apple\", \"banana\", \"cherry\")\n",
    "\n",
    "myit = iter(mytuple)\n",
    "\n",
    "print(next(myit))\n",
    "print(next(myit))\n",
    "print(next(myit))"
   ]
  },
  {
   "cell_type": "code",
   "execution_count": null,
   "metadata": {},
   "outputs": [],
   "source": [
    "#exception handling\n",
    "try:\n",
    "    print(x)\n",
    "except:\n",
    "    print(\"Something went wrong\")\n",
    "finally:\n",
    "    print(\"The 'try except' is finished\")"
   ]
  },
  {
   "cell_type": "markdown",
   "metadata": {},
   "source": [
    "## REGEX in py"
   ]
  },
  {
   "cell_type": "code",
   "execution_count": null,
   "metadata": {},
   "outputs": [],
   "source": [
    "[]\tA set of characters\t\"[a-m]\"\t\n",
    "\\\tSignals a special sequence (can also be used to escape special characters)\t\"\\d\"\t\n",
    ".\tAny character (except newline character)\t\"he..o\"\t\n",
    "^\tStarts with\t\"^hello\"\t\n",
    "$\tEnds with\t\"world$\"\t\n",
    "*\tZero or more occurrences\t\"aix*\"\t\n",
    "+\tOne or more occurrences\t\"aix+\"\t\n",
    "{}\tExactly the specified number of occurrences\t\"al{2}\"\t\n",
    "|\tEither or\t\"falls|stays\"\n",
    "\n",
    "\\A\tReturns a match if the specified characters are at the beginning of the string\t\"\\AThe\"\t\n",
    "\\b\tReturns a match where the specified characters are at the beginning or at the end of a word\n",
    "(the \"r\" in the beginning is making sure that the string is being treated as a \"raw string\")\tr\"\\bain\"\n",
    "r\"ain\\b\"\t\n",
    "\\B\tReturns a match where the specified characters are present, but NOT at the beginning (or at the end) of a word\n",
    "(the \"r\" in the beginning is making sure that the string is being treated as a \"raw string\")\tr\"\\Bain\"\n",
    "r\"ain\\B\"\t\n",
    "\\d\tReturns a match where the string contains digits (numbers from 0-9)\t\"\\d\"\t\n",
    "\\D\tReturns a match where the string DOES NOT contain digits\t\"\\D\"\t\n",
    "\\s\tReturns a match where the string contains a white space character\t\"\\s\"\t\n",
    "\\S\tReturns a match where the string DOES NOT contain a white space character\t\"\\S\"\t\n",
    "\\w\tReturns a match where the string contains any word characters (characters from a to Z, digits from 0-9, and the underscore _ character)\t\"\\w\"\t\n",
    "\\W\tReturns a match where the string DOES NOT contain any word characters\t\"\\W\"\t\n",
    "\\Z\tReturns a match if the specified characters are at the end of the string\t\"Spain\\Z\""
   ]
  },
  {
   "cell_type": "markdown",
   "metadata": {},
   "source": [
    "# Numpy"
   ]
  },
  {
   "cell_type": "code",
   "execution_count": 28,
   "metadata": {},
   "outputs": [
    {
     "name": "stdout",
     "output_type": "stream",
     "text": [
      "[1 2 3 4]\n",
      "[1 3]\n"
     ]
    },
    {
     "data": {
      "text/plain": [
       "(4,)"
      ]
     },
     "execution_count": 28,
     "metadata": {},
     "output_type": "execute_result"
    }
   ],
   "source": [
    "#operations\n",
    "import numpy as np\n",
    "a= np.array([2,3,5,6]) # 1D Array\n",
    "type(a)\n",
    "\n",
    "# creating 0 Dimension array\n",
    "a = np.array(22)\n",
    "a\n",
    "\n",
    "# creating 2D Array\n",
    "arr = np.array([[1, 2, 3], [4, 5, 6]])\n",
    "arr\n",
    "\n",
    "# 3-D arrays\n",
    "arr = np.array([[[1, 2, 3], [4, 5, 6]], [[1, 2, 3], [4, 5, 6]]])\n",
    "arr\n",
    "\n",
    "a.ndim\n",
    "arr.ndim # checking no. of Dimension\n",
    "\n",
    "\n",
    "arr = np.array([1, 2, 3, 4], ndmin=5)\n",
    "arr\n",
    "\n",
    "arr = np.array([1, 2, 3, 4])\n",
    "\n",
    "# print(arr[2] + arr[3])\n",
    "\n",
    "# print(arr[:4])\n",
    "\n",
    "# print(arr[::2])\n",
    "\n",
    "arr.shape"
   ]
  },
  {
   "cell_type": "code",
   "execution_count": 32,
   "metadata": {},
   "outputs": [
    {
     "data": {
      "text/plain": [
       "array([[[ 1,  2],\n",
       "        [ 3,  4],\n",
       "        [ 5,  6]],\n",
       "\n",
       "       [[ 7,  8],\n",
       "        [ 9, 10],\n",
       "        [11, 12]]])"
      ]
     },
     "execution_count": 32,
     "metadata": {},
     "output_type": "execute_result"
    }
   ],
   "source": [
    "arr = np.array([1, 2, 3, 4, 5, 6, 7, 8, 9, 10, 11, 12])\n",
    "\n",
    "# 1D to 2D\n",
    "newarr = arr.reshape(4, 3)\n",
    "newarr\n",
    "\n",
    "# 1D to 3D\n",
    "newarr3d = arr.reshape(2, 3, 2)\n",
    "newarr3d"
   ]
  },
  {
   "cell_type": "markdown",
   "metadata": {},
   "source": [
    "## Flattening array means converting a multidimensional array into a 1D array.\n",
    "\n",
    "# We can use reshape(-1) to do this."
   ]
  },
  {
   "cell_type": "code",
   "execution_count": 33,
   "metadata": {},
   "outputs": [
    {
     "data": {
      "text/plain": [
       "array([1, 2, 3, 4, 5, 6])"
      ]
     },
     "execution_count": 33,
     "metadata": {},
     "output_type": "execute_result"
    }
   ],
   "source": [
    "arr = np.array([[1, 2, 3], [4, 5, 6]])\n",
    "\n",
    "newarr = arr.reshape(-1)\n",
    "newarr\n",
    "\n"
   ]
  },
  {
   "cell_type": "code",
   "execution_count": 35,
   "metadata": {},
   "outputs": [
    {
     "data": {
      "text/plain": [
       "array([1, 2, 3, 4, 5, 6])"
      ]
     },
     "execution_count": 35,
     "metadata": {},
     "output_type": "execute_result"
    }
   ],
   "source": [
    "arr1 = np.array([1, 2, 3])\n",
    "\n",
    "arr2 = np.array([4, 5, 6])\n",
    "\n",
    "arr = np.concatenate((arr1, arr2))\n",
    "arr"
   ]
  },
  {
   "cell_type": "code",
   "execution_count": 36,
   "metadata": {},
   "outputs": [
    {
     "name": "stdout",
     "output_type": "stream",
     "text": [
      "[[1 2 5 6]\n",
      " [3 4 7 8]]\n"
     ]
    }
   ],
   "source": [
    "# Join two 2-D arrays along rows (axis=1):\n",
    "\n",
    "import numpy as np\n",
    "\n",
    "arr1 = np.array([[1, 2], [3, 4]])\n",
    "\n",
    "arr2 = np.array([[5, 6], [7, 8]])\n",
    "\n",
    "arr = np.concatenate((arr1, arr2), axis=1)\n",
    "\n",
    "print(arr)"
   ]
  },
  {
   "cell_type": "code",
   "execution_count": 38,
   "metadata": {},
   "outputs": [
    {
     "name": "stdout",
     "output_type": "stream",
     "text": [
      "[array([1, 2]), array([3, 4]), array([5, 6])]\n"
     ]
    },
    {
     "data": {
      "text/plain": [
       "(array([3], dtype=int64),)"
      ]
     },
     "execution_count": 38,
     "metadata": {},
     "output_type": "execute_result"
    }
   ],
   "source": [
    "arr = np.array([1, 2, 3, 4, 5, 6])\n",
    "\n",
    "newarr = np.array_split(arr, 3)\n",
    "\n",
    "print(newarr)\n",
    "np.where(arr == 4)"
   ]
  },
  {
   "cell_type": "markdown",
   "metadata": {},
   "source": [
    "\n",
    "# MATPLOTLIB"
   ]
  },
  {
   "cell_type": "code",
   "execution_count": null,
   "metadata": {},
   "outputs": [],
   "source": []
  },
  {
   "cell_type": "code",
   "execution_count": null,
   "metadata": {},
   "outputs": [],
   "source": []
  },
  {
   "cell_type": "code",
   "execution_count": null,
   "metadata": {},
   "outputs": [],
   "source": []
  },
  {
   "cell_type": "code",
   "execution_count": null,
   "metadata": {},
   "outputs": [],
   "source": []
  },
  {
   "cell_type": "markdown",
   "metadata": {},
   "source": [
    "# PANDAS"
   ]
  },
  {
   "cell_type": "code",
   "execution_count": null,
   "metadata": {},
   "outputs": [],
   "source": [
    "'''\n",
    "its all abt dataframe\n",
    "dataframe is in 2D format\n",
    "\n",
    "while series is in 1D format\n",
    "\n",
    "Series\n",
    "A Series, by contrast, is a sequence of data values. \n",
    "If a DataFrame is a table, a Series is a list.\n",
    "And in fact you can create one with nothing more than a list:\n",
    "\n",
    "\n",
    "\n",
    "\n",
    "series is single column data frame\n",
    "\n",
    "\n",
    "df=pd.read_csv(\" \", index_col=0)\n",
    "\n",
    "df=pd.read_excel()\n",
    "\n",
    "df.shape\n",
    "\n",
    "df.head()\n",
    "\n",
    "\n",
    "\n",
    "\n",
    "\n",
    "'''"
   ]
  },
  {
   "cell_type": "code",
   "execution_count": null,
   "metadata": {},
   "outputs": [],
   "source": [
    "# index based selection - let say df is dataframe has 5 cols and 100 rows\n",
    "# df.iloc[rows,cols] or df.loc[rows,cols]\n",
    "#df.iloc[0:20,['col1','col2','col3']]\n",
    "\n",
    "#df.loc[:,['col1','col2']]\n",
    "\n",
    "#here review is a dataframe, country and points are cols\n",
    "#reviews.loc[reviews.country == 'Italy']\n",
    "#reviews.country.unique()\n",
    "\n",
    "#reviews.loc[(reviews.country == 'Italy') & (reviews.points >= 90)]\n",
    "\n",
    "#reviews.loc[reviews.price.notnull()]\n",
    "\n",
    "#reviews.taster_name.value_counts()\n",
    "\n",
    "\n",
    "\n",
    "#map() function\n",
    "\n",
    "# review_points_mean = reviews.points.mean()\n",
    "# reviews.points.map(lambda p: p - review_points_mean)\n",
    "\n",
    "\n",
    "\n",
    "# apply() function\n",
    "# def remean_points(row):\n",
    "#     row.points = row.points - review_points_mean\n",
    "#     return row\n",
    "\n",
    "# reviews.apply(remean_points, axis='columns')\n",
    "\n",
    "'''Note that map() and apply() return new, transformed Series and DataFrames, respectively. \n",
    "They don't modify the original data they're called on.\n",
    "If we look at the first row of reviews, \n",
    "we can see that it still has its original points value.'''\n"
   ]
  },
  {
   "cell_type": "code",
   "execution_count": null,
   "metadata": {},
   "outputs": [],
   "source": [
    "# renaming column of dataframe\n",
    "reviews.rename(columns={'points': 'score'})\n"
   ]
  },
  {
   "cell_type": "code",
   "execution_count": null,
   "metadata": {},
   "outputs": [],
   "source": [
    "canadian_youtube = pd.read_csv(\"../input/youtube-new/CAvideos.csv\")\n",
    "british_youtube = pd.read_csv(\"../input/youtube-new/GBvideos.csv\")\n",
    "\n",
    "pd.concat([canadian_youtube, british_youtube])"
   ]
  },
  {
   "cell_type": "code",
   "execution_count": null,
   "metadata": {},
   "outputs": [],
   "source": [
    "reviews.price.dtype\n",
    "\n",
    "'''It's possible to convert a column of one type into another \n",
    "wherever such a conversion makes sense by using the astype()\n",
    "function. For example, we may transform the points column \n",
    "from its existing int64 data type into a float64 data type:\n",
    "'''\n",
    "reviews.points.astype('float64')"
   ]
  },
  {
   "cell_type": "code",
   "execution_count": null,
   "metadata": {},
   "outputs": [],
   "source": [
    "#find null values\n",
    "reviews[pd.isnull(reviews.country)]\n",
    "\n",
    "\n",
    "#filling null/NaN values with some value\n",
    "reviews.region_2.fillna(\"Unknown\")\n",
    "\n",
    "#replacing certain value in a column\n",
    "reviews.taster_twitter_handle.replace(\"@kerinokeefe\", \"@kerino\")"
   ]
  },
  {
   "cell_type": "code",
   "execution_count": null,
   "metadata": {},
   "outputs": [],
   "source": [
    "Groupwise analysis\n",
    "One function we've been using heavily thus far is the \n",
    "value_counts() function. We can replicate what \n",
    "value_counts() does by doing the following:\n",
    "\n",
    "reviews.groupby('points').points.count()\n",
    "\n",
    "reviews.groupby('points').price.min()"
   ]
  },
  {
   "cell_type": "code",
   "execution_count": null,
   "metadata": {},
   "outputs": [],
   "source": [
    "You can think of each group we generate as being a slice\n",
    "of our DataFrame containing only data with values that\n",
    "match. This DataFrame is accessible to us directly using\n",
    "the apply() method, and we can then manipulate the data \n",
    "in any way we see fit. For example, here's one way of \n",
    "selecting the name of the first wine reviewed from each\n",
    "winery in the dataset:\n",
    "\n",
    "reviews.groupby('winery').apply(lambda df: df.title.iloc[0])"
   ]
  },
  {
   "cell_type": "code",
   "execution_count": null,
   "metadata": {},
   "outputs": [],
   "source": [
    "countries_reviewed.sort_values(by='len')\n",
    "#len is the column in dataframe\n",
    "countries_reviewed.sort_values(by='len', ascending=False)\n",
    "\n",
    "countries_reviewed.sort_values(by=['country', 'len'])\n"
   ]
  },
  {
   "cell_type": "code",
   "execution_count": null,
   "metadata": {},
   "outputs": [],
   "source": []
  },
  {
   "cell_type": "code",
   "execution_count": null,
   "metadata": {},
   "outputs": [],
   "source": []
  },
  {
   "cell_type": "code",
   "execution_count": null,
   "metadata": {},
   "outputs": [],
   "source": []
  },
  {
   "cell_type": "code",
   "execution_count": null,
   "metadata": {},
   "outputs": [],
   "source": []
  }
 ],
 "metadata": {
  "kernelspec": {
   "display_name": "Python 3",
   "language": "python",
   "name": "python3"
  },
  "language_info": {
   "codemirror_mode": {
    "name": "ipython",
    "version": 3
   },
   "file_extension": ".py",
   "mimetype": "text/x-python",
   "name": "python",
   "nbconvert_exporter": "python",
   "pygments_lexer": "ipython3",
   "version": "3.7.6"
  }
 },
 "nbformat": 4,
 "nbformat_minor": 4
}
