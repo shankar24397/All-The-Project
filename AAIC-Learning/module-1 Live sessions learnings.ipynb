{
 "cells": [
  {
   "cell_type": "code",
   "execution_count": 1,
   "metadata": {},
   "outputs": [
    {
     "data": {
      "text/plain": [
       "array([[0.33618265, 0.45974584, 0.24757183, 0.37875892, 0.5812888 ],\n",
       "       [0.73664783, 0.98472924, 0.27996979, 0.41246705, 0.43272841],\n",
       "       [0.47877118, 0.95551759, 0.62991908, 0.97458218, 0.95771914]])"
      ]
     },
     "execution_count": 1,
     "metadata": {},
     "output_type": "execute_result"
    }
   ],
   "source": [
    "import numpy as np\n",
    "import random \n",
    "np.random.rand(3,5)\n",
    "'''\n",
    "23 -> scaler \n",
    "1d array -> vector\n",
    "2d array -> Matrix\n",
    "3d,4d,5d... -> Tensors\n",
    "\n",
    "\n",
    "'''\n",
    " "
   ]
  }
 ],
 "metadata": {
  "kernelspec": {
   "display_name": "Python 3",
   "language": "python",
   "name": "python3"
  },
  "language_info": {
   "codemirror_mode": {
    "name": "ipython",
    "version": 3
   },
   "file_extension": ".py",
   "mimetype": "text/x-python",
   "name": "python",
   "nbconvert_exporter": "python",
   "pygments_lexer": "ipython3",
   "version": "3.7.6"
  }
 },
 "nbformat": 4,
 "nbformat_minor": 4
}
